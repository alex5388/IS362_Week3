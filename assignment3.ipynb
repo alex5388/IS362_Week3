{
 "cells": [
  {
   "cell_type": "code",
   "execution_count": 1,
   "metadata": {},
   "outputs": [],
   "source": [
    "import pandas as pd\n",
    "miles = [55,120,175,225,300,356,400,465,565,600,664,718,800,843,890,931,1000,1042,1100,1145,1190,1240,1280,1309,1346,1400,1435]\n"
   ]
  },
  {
   "cell_type": "code",
   "execution_count": 4,
   "metadata": {},
   "outputs": [
    {
     "data": {
      "text/plain": [
       "0       55\n",
       "1      120\n",
       "2      175\n",
       "3      225\n",
       "4      300\n",
       "5      356\n",
       "6      400\n",
       "7      465\n",
       "8      565\n",
       "9      600\n",
       "10     664\n",
       "11     718\n",
       "12     800\n",
       "13     843\n",
       "14     890\n",
       "15     931\n",
       "16    1000\n",
       "17    1042\n",
       "18    1100\n",
       "19    1145\n",
       "20    1190\n",
       "21    1240\n",
       "22    1280\n",
       "23    1309\n",
       "24    1346\n",
       "25    1400\n",
       "26    1435\n",
       "dtype: int64"
      ]
     },
     "execution_count": 4,
     "metadata": {},
     "output_type": "execute_result"
    }
   ],
   "source": [
    "trip = pd.Series(miles)\n",
    "trip"
   ]
  },
  {
   "cell_type": "code",
   "execution_count": 24,
   "metadata": {},
   "outputs": [
    {
     "name": "stdout",
     "output_type": "stream",
     "text": [
      "Miles ridden on day 0: 55\n",
      "Miles ridden on day 1: 120\n",
      "Miles ridden on day 2: 175\n",
      "Miles ridden on day 3: 225\n",
      "Miles ridden on day 4: 300\n",
      "Miles ridden on day 5: 356\n",
      "Miles ridden on day 6: 400\n",
      "Miles ridden on day 7: 465\n",
      "Miles ridden on day 8: 565\n",
      "Miles ridden on day 9: 600\n",
      "Miles ridden on day 10: 664\n",
      "Miles ridden on day 11: 718\n",
      "Miles ridden on day 12: 800\n",
      "Miles ridden on day 13: 843\n",
      "Miles ridden on day 14: 890\n",
      "Miles ridden on day 15: 931\n",
      "Miles ridden on day 16: 1000\n",
      "Miles ridden on day 17: 1042\n",
      "Miles ridden on day 18: 1100\n",
      "Miles ridden on day 19: 1145\n",
      "Miles ridden on day 20: 1190\n",
      "Miles ridden on day 21: 1240\n",
      "Miles ridden on day 22: 1280\n",
      "Miles ridden on day 23: 1309\n",
      "Miles ridden on day 24: 1346\n",
      "Miles ridden on day 25: 1400\n",
      "Miles ridden on day 26: 1435\n"
     ]
    }
   ],
   "source": [
    "for x in range(len(trip)):\n",
    "    print(f'Miles ridden on day {x}: {trip[x]}')"
   ]
  }
 ],
 "metadata": {
  "kernelspec": {
   "display_name": "Python 3",
   "language": "python",
   "name": "python3"
  },
  "language_info": {
   "codemirror_mode": {
    "name": "ipython",
    "version": 3
   },
   "file_extension": ".py",
   "mimetype": "text/x-python",
   "name": "python",
   "nbconvert_exporter": "python",
   "pygments_lexer": "ipython3",
   "version": "3.8.3"
  }
 },
 "nbformat": 4,
 "nbformat_minor": 4
}
